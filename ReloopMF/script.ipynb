{
 "cells": [
  {
   "cell_type": "code",
   "execution_count": 2,
   "id": "initial_id",
   "metadata": {
    "collapsed": true,
    "ExecuteTime": {
     "end_time": "2024-03-14T07:44:07.064625Z",
     "start_time": "2024-03-14T07:44:07.051421Z"
    }
   },
   "outputs": [
    {
     "name": "stdout",
     "output_type": "stream",
     "text": [
      "{'seed': 'Random seed for initialization, default: 0', 'rounds': 'Number of rounds to run, default: 5', 'dataset': 'Dataset to use, default: rt', 'model': 'Model to use, default: DNN', 'density': 'Density for something, default: 0.0001', 'debug': 'Debug mode flag, 0 for off, 1 for on, default: 0', 'record': 'Record mode flag, 0 for off, 1 for on, default: 0', 'program_test': 'Program test flag, 0 for off, 1 for on, default: 0', 'valid': 'Validation flag, 0 for off, 1 for on, default: 1', 'experiment': 'Experiment flag, 0 for off, 1 for on, default: 0', 'verbose': 'Verbose mode, 0 for off, 1 for on, default: 1', 'path': 'Path for datasets, default: ./datasets/', 'device': 'Device to use, can be cpu, gpu, or mps, default: cpu', 'bs': 'Batch size, default: 256', 'lr': 'Learning rate, default: 0.001', 'epochs': 'Number of epochs to train, default: 300', 'decay': 'Weight decay (L2 penalty), default: 0.0001', 'lr_step': 'Step size for learning rate decay, default: 10', 'patience': 'Patience for early stopping, default: 10', 'saved': 'Flag to save model, 0 for off, 1 for on, default: 1', 'loss_func': 'Loss function to use, default: L1Loss', 'optim': 'Optimizer to use, default: AdamW', 'user_num': 'Number of users, default: 339', 'serv_num': 'Number of servers, default: 5825', 'dimension': 'Dimension for something, default: 32', 'check': 'Check mode, 0 for off, 1 for on, default: 0', 'ablation': 'Ablation study flag, 0 for off, 1 for on, default: 0', 'classification': 'Classification flag, 0 for off, 1 for on, default: 0'}\n"
     ]
    },
    {
     "name": "stderr",
     "output_type": "stream",
     "text": [
      "usage: ipykernel_launcher.py [-h] [--config_path CONFIG_PATH] [--seed SEED]\n",
      "                             [--rounds ROUNDS] [--dataset DATASET]\n",
      "                             [--model MODEL] [--density DENSITY]\n",
      "                             [--debug DEBUG] [--record RECORD]\n",
      "                             [--program_test PROGRAM_TEST] [--valid VALID]\n",
      "                             [--experiment EXPERIMENT] [--verbose VERBOSE]\n",
      "                             [--path PATH] [--device DEVICE] [--bs BS]\n",
      "                             [--lr LR] [--epochs EPOCHS] [--decay DECAY]\n",
      "                             [--lr_step LR_STEP] [--patience PATIENCE]\n",
      "                             [--saved SAVED] [--loss_func LOSS_FUNC]\n",
      "                             [--optim OPTIM] [--user_num USER_NUM]\n",
      "                             [--serv_num SERV_NUM] [--dimension DIMENSION]\n",
      "                             [--check CHECK] [--ablation ABLATION]\n",
      "                             [--classification CLASSIFICATION]\n",
      "ipykernel_launcher.py: error: unrecognized arguments: -f /Users/zengyuxiang/Library/Jupyter/runtime/kernel-c1f4b1c7-a3ce-4a14-a69f-f7681f4b8785.json\n"
     ]
    },
    {
     "ename": "SystemExit",
     "evalue": "2",
     "output_type": "error",
     "traceback": [
      "An exception has occurred, use %tb to see the full traceback.\n",
      "\u001B[0;31mSystemExit\u001B[0m\u001B[0;31m:\u001B[0m 2\n"
     ]
    },
    {
     "name": "stderr",
     "output_type": "stream",
     "text": [
      "/Users/zengyuxiang/opt/anaconda3/lib/python3.8/site-packages/IPython/core/interactiveshell.py:3426: UserWarning: To exit: use 'exit', 'quit', or Ctrl-D.\n",
      "  warn(\"To exit: use 'exit', 'quit', or Ctrl-D.\", stacklevel=1)\n"
     ]
    }
   ],
   "source": [
    "from utils.config import get_config\n",
    "\n",
    "args = get_config()\n"
   ]
  },
  {
   "cell_type": "code",
   "outputs": [],
   "source": [],
   "metadata": {
    "collapsed": false
   },
   "id": "5cf8eeb4258e936d"
  }
 ],
 "metadata": {
  "kernelspec": {
   "display_name": "Python 3",
   "language": "python",
   "name": "python3"
  },
  "language_info": {
   "codemirror_mode": {
    "name": "ipython",
    "version": 2
   },
   "file_extension": ".py",
   "mimetype": "text/x-python",
   "name": "python",
   "nbconvert_exporter": "python",
   "pygments_lexer": "ipython2",
   "version": "2.7.6"
  }
 },
 "nbformat": 4,
 "nbformat_minor": 5
}
