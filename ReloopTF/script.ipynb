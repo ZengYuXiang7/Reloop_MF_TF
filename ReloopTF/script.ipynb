{
 "cells": [
  {
   "cell_type": "code",
   "execution_count": 3,
   "id": "initial_id",
   "metadata": {
    "collapsed": true,
    "ExecuteTime": {
     "end_time": "2024-03-12T16:28:11.830329Z",
     "start_time": "2024-03-12T16:28:11.822417Z"
    }
   },
   "outputs": [
    {
     "name": "stdout",
     "output_type": "stream",
     "text": [
      "tensor(0.6704)\n"
     ]
    }
   ],
   "source": [
    "import torch\n",
    "import torch.nn.functional as F\n",
    "\n",
    "def retrieve_similar_samples(h_q, M, k):\n",
    "    \"\"\"\n",
    "    根据查询向量h_q从记忆M中检索最相似的前k个样本。\n",
    "    M是形状为(num_samples, d+2)的张量，d是h_i的维度。\n",
    "    \"\"\"\n",
    "    # 计算相似度（这里使用点积）\n",
    "    similarities = torch.matmul(M[:, :d], h_q.unsqueeze(-1)).squeeze(-1)\n",
    "    # 获取相似度最高的前k个样本的索引\n",
    "    topk_indices = torch.topk(similarities, k).indices\n",
    "    return M[topk_indices]\n",
    "\n",
    "def compute_attention_weights(similar_samples, tau):\n",
    "    \"\"\"\n",
    "    计算相似样本的注意力权重。\n",
    "    \"\"\"\n",
    "    # 使用softmax计算注意力权重\n",
    "    attention_weights = F.softmax(similar_samples / tau, dim=0)\n",
    "    return attention_weights\n",
    "\n",
    "def corrected_model_prediction(h_q, M, k, tau, gamma, lambda_val):\n",
    "    \"\"\"\n",
    "    使用错误记忆来计算校正后的模型预测。\n",
    "    \"\"\"\n",
    "    similar_samples = retrieve_similar_samples(h_q, M, k)\n",
    "    \n",
    "    # 计算注意力权重\n",
    "    similarities = torch.matmul(similar_samples[:, :d], h_q.unsqueeze(-1)).squeeze(-1)\n",
    "    attention_weights = compute_attention_weights(similarities, tau)\n",
    "    \n",
    "    # 计算加权的真实值和基础模型预测值\n",
    "    y_bar = torch.sum(attention_weights * similar_samples[:, d])\n",
    "    y_base_bar = torch.sum(attention_weights * similar_samples[:, d+1])\n",
    "    \n",
    "    # 校正后的预测\n",
    "    y_pred = (1 - lambda_val) * y_base_bar + lambda_val * y_bar\n",
    "    \n",
    "    return y_pred\n",
    "\n",
    "# 示例参数\n",
    "d = 128  # 隐藏向量的维度\n",
    "num_samples = 1000  # 记忆中的样本数量\n",
    "k = 10  # 要检索的样本数量\n",
    "tau = 0.1  # 温度参数\n",
    "gamma = 1  # 误差测量的权重\n",
    "lambda_val = 0.5  # 校正权重\n",
    "\n",
    "# 模拟一个记忆M，包含随机向量h_i, y_i和y_base_i\n",
    "M = torch.randn(num_samples, d + 2)  # 每行：[h_i, y_i, y_base_i]\n",
    "\n",
    "# 模拟一个查询隐藏向量h_q\n",
    "h_q = torch.randn(d)\n",
    "\n",
    "# 获取校正后的模型预测\n",
    "y_pred = corrected_model_prediction(h_q, M, k, tau, gamma, lambda_val)\n",
    "print(y_pred)\n"
   ]
  },
  {
   "cell_type": "code",
   "outputs": [],
   "source": [
    "def window_print()\n",
    "    \n",
    "\n",
    "# window_print('你好')"
   ],
   "metadata": {
    "collapsed": false
   },
   "id": "e49d286a04995666"
  }
 ],
 "metadata": {
  "kernelspec": {
   "display_name": "Python 3",
   "language": "python",
   "name": "python3"
  },
  "language_info": {
   "codemirror_mode": {
    "name": "ipython",
    "version": 2
   },
   "file_extension": ".py",
   "mimetype": "text/x-python",
   "name": "python",
   "nbconvert_exporter": "python",
   "pygments_lexer": "ipython2",
   "version": "2.7.6"
  }
 },
 "nbformat": 4,
 "nbformat_minor": 5
}
